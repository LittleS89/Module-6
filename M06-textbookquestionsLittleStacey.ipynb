{
 "cells": [
  {
   "cell_type": "code",
   "execution_count": 1,
   "id": "4dec400b-09fe-4620-91a5-c49ce90b4d99",
   "metadata": {},
   "outputs": [],
   "source": [
    "# 13.1 Write the current date as a string to the text file today.txt.\n",
    "from datetime import date\n",
    "current = date.today()\n",
    "current_str = current.isoformat()\n",
    "with open('today.txt', 'wt') as output:\n",
    "    print(current_str, file=output)\n"
   ]
  },
  {
   "cell_type": "code",
   "execution_count": 2,
   "id": "665209b8-0146-41fb-a49e-a363d8610f22",
   "metadata": {},
   "outputs": [
    {
     "data": {
      "text/plain": [
       "'2024-12-01\\n'"
      ]
     },
     "execution_count": 2,
     "metadata": {},
     "output_type": "execute_result"
    }
   ],
   "source": [
    "# 13.2 Read the text file today.txt into the string today_string.\n",
    "with open('today.txt', 'rt') as input:\n",
    "    today_string = input.read()\n",
    "\n",
    "today_string"
   ]
  },
  {
   "cell_type": "code",
   "execution_count": null,
   "id": "3e9f1f72-c00d-44f4-b537-f699d21fc6fe",
   "metadata": {},
   "outputs": [],
   "source": [
    "# 13.3 Parse the date from today_string.\n",
    "fmt = '%Y-%m-%d\\n'\n",
    "datetime.strptime(today_string, fmt)"
   ]
  },
  {
   "cell_type": "code",
   "execution_count": null,
   "id": "3b5393bc-1650-4feb-89fd-fb9c90b49ba1",
   "metadata": {},
   "outputs": [],
   "source": [
    "# 15.1 Use multiprocessing to create three separate processes. \n",
    "# Make each one wait a random number of seconds between zero and one, print the current time, and then exit.\n",
    "import multiprocessing\n",
    "\n",
    "def current(seconds):\n",
    "    from datetime import datetime\n",
    "    from time import sleep\n",
    "    sleep(seconds)\n",
    "    print('wait', seconds, 'seconds, time is currently:', datetime.utccurrent())\n",
    "\n",
    "if __name__ == '__main__':\n",
    "    import random\n",
    "    for n in range(3):\n",
    "        seconds = random.random()\n",
    "        proc = multiprocessing.Process(target=current, args=(seconds,))\n",
    "        proc.start()\n",
    "\n",
    "current(seconds)"
   ]
  }
 ],
 "metadata": {
  "kernelspec": {
   "display_name": "Python 3 (ipykernel)",
   "language": "python",
   "name": "python3"
  },
  "language_info": {
   "codemirror_mode": {
    "name": "ipython",
    "version": 3
   },
   "file_extension": ".py",
   "mimetype": "text/x-python",
   "name": "python",
   "nbconvert_exporter": "python",
   "pygments_lexer": "ipython3",
   "version": "3.12.7"
  }
 },
 "nbformat": 4,
 "nbformat_minor": 5
}
